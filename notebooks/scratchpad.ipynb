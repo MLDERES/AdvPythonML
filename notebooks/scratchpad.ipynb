{
 "cells": [
  {
   "cell_type": "code",
   "execution_count": null,
   "metadata": {},
   "outputs": [],
   "source": [
    "import pandas as pd\n",
    "import numpy as np\n",
    "from pathlib import Path\n",
    "DATA_DIR = Path('../data')\n",
    "df = pd.read_csv(DATA_DIR/'accidents.csv')\n",
    "df.describe()\n",
    "import sys\n",
    "sys.path.append('..')\n",
    "from src.data import load_data, load_excel, TRUE_VALUES, FALSE_VALUES\n"
   ]
  },
  {
   "cell_type": "code",
   "execution_count": null,
   "metadata": {},
   "outputs": [],
   "source": [
    "df['MAX_SEV'].value_counts()"
   ]
  },
  {
   "cell_type": "code",
   "execution_count": null,
   "metadata": {},
   "outputs": [],
   "source": [
    "from patsy import dmatrices,dmatrix, demo_data, ContrastMatrix, Poly\n"
   ]
  },
  {
   "cell_type": "code",
   "execution_count": null,
   "metadata": {},
   "outputs": [],
   "source": [
    "heart_df = load_excel('HeartDisease_Cleveland',\n",
    "                    dtype={'FBS': bool, 'EXANG': bool}, true_values=TRUE_VALUES,\n",
    "                    false_values=FALSE_VALUES, na_values=['?'])\n",
    "heart_df.dropna(inplace=True)\n",
    "heart_df['DIAG'] = (heart_df.NUM > 0)\n",
    "heart_df.drop(columns=['NUM'], inplace=True)\n",
    "heart_df.columns\n",
    "#heart_df.head()"
   ]
  },
  {
   "cell_type": "code",
   "execution_count": null,
   "metadata": {},
   "outputs": [],
   "source": [
    "y, X = dmatrices(f'DIAG ~ AGE + SEX + C(CP) + C(FBS) + TRESTBPS + CHOL + '\n",
    "                         f'C(RESTECG) + THALACH + C(EXANG) + OLDPEAK + C(SLOPE) +'\n",
    "                         f'CA + C(THAL) - 1', heart_df, return_type='dataframe')\n",
    "X"
   ]
  }
 ],
 "metadata": {
  "interpreter": {
   "hash": "d4d1e4263499bec80672ea0156c357c1ee493ec2b1c70f0acce89fc37c4a6abe"
  },
  "kernelspec": {
   "display_name": "Python 3.9.7 ('base')",
   "language": "python",
   "name": "python3"
  },
  "language_info": {
   "codemirror_mode": {
    "name": "ipython",
    "version": 3
   },
   "file_extension": ".py",
   "mimetype": "text/x-python",
   "name": "python",
   "nbconvert_exporter": "python",
   "pygments_lexer": "ipython3",
   "version": "3.9.7"
  }
 },
 "nbformat": 4,
 "nbformat_minor": 2
}

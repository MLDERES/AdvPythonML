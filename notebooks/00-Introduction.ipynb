{
 "cells": [
  {
   "cell_type": "markdown",
   "metadata": {},
   "source": [
    "# Using Python for Machine Learning\n",
    "The notebooks herein provide a good start on your journey to learning about how to leverage Python for Machine Learning.  While this set of notebooks expects at least an intermediate understanding of Python, it is only a beginning into the depths of what the language can do to support explanatory and predictive analytics.\n",
    "\n",
    "These notebooks start with an overview of [Exploratory Data Analysis](10-ExploratoryDataAnalysis.ipynb), which is the second step in any model development (the first step is to have a solid understanding of the context of the analysis).  Then into [Data Preparation](20-DataPreparation).  While this might seem like a long way to go to get to some prediction, the reality is that at least 80% of the work of developing predictive or explanatory models is spent understanding and preparing the data.  From here, the notebooks delve into areas of [classification](30-Classification.ipynb), [prediction/estimation](40-EstimationPrediction.ipynb), and finally [unsupervised](50-Unsupervised.ipynb) approaches like clustering and affinity analysis.\n",
    "\n"
   ]
  },
  {
   "cell_type": "markdown",
   "metadata": {},
   "source": []
  }
 ],
 "metadata": {
  "language_info": {
   "name": "python"
  },
  "orig_nbformat": 4
 },
 "nbformat": 4,
 "nbformat_minor": 2
}

{
 "cells": [
  {
   "cell_type": "code",
   "execution_count": 1,
   "metadata": {},
   "outputs": [],
   "source": [
    "%load_ext autoreload\n",
    "%autoreload 2\n",
    "import pandas as pd\n",
    "import numpy as np\n",
    "from sklearn.metrics import accuracy_score\n",
    "from sklearn.model_selection import train_test_split\n",
    "from sklearn.pipeline import Pipeline\n",
    "from sklearn.preprocessing import StandardScaler, OneHotEncoder\n",
    "from sklearn.impute import SimpleImputer\n",
    "from sklearn.compose import ColumnTransformer\n",
    "from sklearn.neighbors import KNeighborsClassifier\n",
    "\n",
    "import sys\n",
    "sys.path.append('..')\n",
    "from src.data import load_data, load_excel, TRUE_VALUES, FALSE_VALUES\n",
    "from src.metric import confusion_matrix,classificationSummary\n",
    "\n",
    "pd.set_option('precision',4)\n",
    "pd.set_option('display.max_rows', 200)\n",
    "pd.set_option('display.max_columns', 50)\n",
    "pd.set_option('display.width', 1000)\n",
    "from IPython.core.interactiveshell import InteractiveShell\n",
    "InteractiveShell.ast_node_interactivity = \"all\""
   ]
  },
  {
   "cell_type": "markdown",
   "metadata": {},
   "source": [
    "# Pipelines\n",
    "Pipeline can be used to chain multiple estimators into one. This is useful as there is often a fixed sequence of steps in processing the data, for example feature selection, normalization and classification. Pipeline serves multiple purposes here:\n",
    "\n",
    "__Convenience and encapsulation__\n",
    "    <br/>You only have to call fit and predict once on your data to fit a whole sequence of estimators.\n",
    "\n",
    "__Joint parameter selection__\n",
    "    <br/>You can grid search over parameters of all estimators in the pipeline at once.\n",
    "\n",
    "__Safety__\n",
    "    <br/>Pipelines help avoid leaking statistics from your test data into the trained model in cross-validation, by ensuring that the same samples are used to train the transformers and predictors.\n",
    "\n",
    "All estimators in a pipeline, except the last one, must be transformers (i.e. must have a transform method). The last estimator may be any type (transformer, classifier, etc.).\n",
    "\n",
    "*(source: [sklearn documentation](https://scikit-learn.org/stable/modules/compose.html#pipeline))*\n",
    "\n",
    "We can use a pipeline for instance to standardize our data prior to running the Nearest Neighbors classifier."
   ]
  },
  {
   "cell_type": "code",
   "execution_count": 2,
   "metadata": {},
   "outputs": [],
   "source": [
    "# Import and clean-up the heart disease dataset\n",
    "heart_df = load_excel('HeartDisease_Cleveland',\n",
    "                    dtype={'FBS': bool, 'EXANG': bool}, true_values=TRUE_VALUES,\n",
    "                    false_values=FALSE_VALUES, na_values=['?'])\n",
    "heart_df.dropna(inplace=True)\n",
    "heart_df['DIAG'] = (heart_df.NUM > 0)\n",
    "heart_df.drop(columns=['NUM'], inplace=True)"
   ]
  },
  {
   "cell_type": "code",
   "execution_count": 3,
   "metadata": {},
   "outputs": [
    {
     "data": {
      "text/plain": [
       "Pipeline(steps=[('scaler', StandardScaler()),\n",
       "                ('classifier',\n",
       "                 KNeighborsClassifier(n_jobs=-1, n_neighbors=25))])"
      ]
     },
     "execution_count": 3,
     "metadata": {},
     "output_type": "execute_result"
    },
    {
     "data": {
      "text/plain": [
       "0.8212290502793296"
      ]
     },
     "execution_count": 3,
     "metadata": {},
     "output_type": "execute_result"
    }
   ],
   "source": [
    "MAX_NEIGHBORS = 25\n",
    "X = heart_df.drop(columns='DIAG')\n",
    "y = heart_df['DIAG']\n",
    "X_train, X_test, y_train, y_test = train_test_split(X, y, train_size=0.4, random_state=1)\n",
    "clf = KNeighborsClassifier(n_neighbors=MAX_NEIGHBORS, weights='uniform', algorithm='auto', n_jobs=-1)\n",
    "pipe = Pipeline([\n",
    "    ('scaler', StandardScaler()),\n",
    "    ('classifier',clf)])\n",
    "pipe.fit(X_train,y_train)\n",
    "pipe.score(X_test,y_test)"
   ]
  },
  {
   "cell_type": "markdown",
   "metadata": {},
   "source": [
    "Pipelines can get complicated, fortunately when we are working in Jupyter notebooks we can see an HTML representation of the final pipeline"
   ]
  },
  {
   "cell_type": "code",
   "execution_count": 4,
   "metadata": {},
   "outputs": [
    {
     "data": {
      "text/html": [
       "<style>#sk-f905dfbd-8ecd-43b6-844c-aa6b8c49e8c5 {color: black;background-color: white;}#sk-f905dfbd-8ecd-43b6-844c-aa6b8c49e8c5 pre{padding: 0;}#sk-f905dfbd-8ecd-43b6-844c-aa6b8c49e8c5 div.sk-toggleable {background-color: white;}#sk-f905dfbd-8ecd-43b6-844c-aa6b8c49e8c5 label.sk-toggleable__label {cursor: pointer;display: block;width: 100%;margin-bottom: 0;padding: 0.2em 0.3em;box-sizing: border-box;text-align: center;}#sk-f905dfbd-8ecd-43b6-844c-aa6b8c49e8c5 div.sk-toggleable__content {max-height: 0;max-width: 0;overflow: hidden;text-align: left;background-color: #f0f8ff;}#sk-f905dfbd-8ecd-43b6-844c-aa6b8c49e8c5 div.sk-toggleable__content pre {margin: 0.2em;color: black;border-radius: 0.25em;background-color: #f0f8ff;}#sk-f905dfbd-8ecd-43b6-844c-aa6b8c49e8c5 input.sk-toggleable__control:checked~div.sk-toggleable__content {max-height: 200px;max-width: 100%;overflow: auto;}#sk-f905dfbd-8ecd-43b6-844c-aa6b8c49e8c5 div.sk-estimator input.sk-toggleable__control:checked~label.sk-toggleable__label {background-color: #d4ebff;}#sk-f905dfbd-8ecd-43b6-844c-aa6b8c49e8c5 div.sk-label input.sk-toggleable__control:checked~label.sk-toggleable__label {background-color: #d4ebff;}#sk-f905dfbd-8ecd-43b6-844c-aa6b8c49e8c5 input.sk-hidden--visually {border: 0;clip: rect(1px 1px 1px 1px);clip: rect(1px, 1px, 1px, 1px);height: 1px;margin: -1px;overflow: hidden;padding: 0;position: absolute;width: 1px;}#sk-f905dfbd-8ecd-43b6-844c-aa6b8c49e8c5 div.sk-estimator {font-family: monospace;background-color: #f0f8ff;margin: 0.25em 0.25em;border: 1px dotted black;border-radius: 0.25em;box-sizing: border-box;}#sk-f905dfbd-8ecd-43b6-844c-aa6b8c49e8c5 div.sk-estimator:hover {background-color: #d4ebff;}#sk-f905dfbd-8ecd-43b6-844c-aa6b8c49e8c5 div.sk-parallel-item::after {content: \"\";width: 100%;border-bottom: 1px solid gray;flex-grow: 1;}#sk-f905dfbd-8ecd-43b6-844c-aa6b8c49e8c5 div.sk-label:hover label.sk-toggleable__label {background-color: #d4ebff;}#sk-f905dfbd-8ecd-43b6-844c-aa6b8c49e8c5 div.sk-serial::before {content: \"\";position: absolute;border-left: 1px solid gray;box-sizing: border-box;top: 2em;bottom: 0;left: 50%;}#sk-f905dfbd-8ecd-43b6-844c-aa6b8c49e8c5 div.sk-serial {display: flex;flex-direction: column;align-items: center;background-color: white;}#sk-f905dfbd-8ecd-43b6-844c-aa6b8c49e8c5 div.sk-item {z-index: 1;}#sk-f905dfbd-8ecd-43b6-844c-aa6b8c49e8c5 div.sk-parallel {display: flex;align-items: stretch;justify-content: center;background-color: white;}#sk-f905dfbd-8ecd-43b6-844c-aa6b8c49e8c5 div.sk-parallel-item {display: flex;flex-direction: column;position: relative;background-color: white;}#sk-f905dfbd-8ecd-43b6-844c-aa6b8c49e8c5 div.sk-parallel-item:first-child::after {align-self: flex-end;width: 50%;}#sk-f905dfbd-8ecd-43b6-844c-aa6b8c49e8c5 div.sk-parallel-item:last-child::after {align-self: flex-start;width: 50%;}#sk-f905dfbd-8ecd-43b6-844c-aa6b8c49e8c5 div.sk-parallel-item:only-child::after {width: 0;}#sk-f905dfbd-8ecd-43b6-844c-aa6b8c49e8c5 div.sk-dashed-wrapped {border: 1px dashed gray;margin: 0.2em;box-sizing: border-box;padding-bottom: 0.1em;background-color: white;position: relative;}#sk-f905dfbd-8ecd-43b6-844c-aa6b8c49e8c5 div.sk-label label {font-family: monospace;font-weight: bold;background-color: white;display: inline-block;line-height: 1.2em;}#sk-f905dfbd-8ecd-43b6-844c-aa6b8c49e8c5 div.sk-label-container {position: relative;z-index: 2;text-align: center;}#sk-f905dfbd-8ecd-43b6-844c-aa6b8c49e8c5 div.sk-container {display: inline-block;position: relative;}</style><div id=\"sk-f905dfbd-8ecd-43b6-844c-aa6b8c49e8c5\" class\"sk-top-container\"><div class=\"sk-container\"><div class=\"sk-item sk-dashed-wrapped\"><div class=\"sk-label-container\"><div class=\"sk-label sk-toggleable\"><input class=\"sk-toggleable__control sk-hidden--visually\" id=\"f4b37495-14d6-4ed9-940e-f79622322129\" type=\"checkbox\" ><label class=\"sk-toggleable__label\" for=\"f4b37495-14d6-4ed9-940e-f79622322129\">Pipeline</label><div class=\"sk-toggleable__content\"><pre>Pipeline(steps=[('scaler', StandardScaler()),\n",
       "                ('classifier',\n",
       "                 KNeighborsClassifier(n_jobs=-1, n_neighbors=25))])</pre></div></div></div><div class=\"sk-serial\"><div class=\"sk-item\"><div class=\"sk-estimator sk-toggleable\"><input class=\"sk-toggleable__control sk-hidden--visually\" id=\"7f2a7aa6-e84a-408a-bd04-162ce0587337\" type=\"checkbox\" ><label class=\"sk-toggleable__label\" for=\"7f2a7aa6-e84a-408a-bd04-162ce0587337\">StandardScaler</label><div class=\"sk-toggleable__content\"><pre>StandardScaler()</pre></div></div></div><div class=\"sk-item\"><div class=\"sk-estimator sk-toggleable\"><input class=\"sk-toggleable__control sk-hidden--visually\" id=\"2be9d4c9-8e55-4ab5-91df-b09253bdb8fb\" type=\"checkbox\" ><label class=\"sk-toggleable__label\" for=\"2be9d4c9-8e55-4ab5-91df-b09253bdb8fb\">KNeighborsClassifier</label><div class=\"sk-toggleable__content\"><pre>KNeighborsClassifier(n_jobs=-1, n_neighbors=25)</pre></div></div></div></div></div></div></div>"
      ],
      "text/plain": [
       "Pipeline(steps=[('scaler', StandardScaler()),\n",
       "                ('classifier',\n",
       "                 KNeighborsClassifier(n_jobs=-1, n_neighbors=25))])"
      ]
     },
     "execution_count": 4,
     "metadata": {},
     "output_type": "execute_result"
    }
   ],
   "source": [
    "from sklearn import set_config\n",
    "set_config(display='diagram')\n",
    "pipe"
   ]
  },
  {
   "cell_type": "code",
   "execution_count": 5,
   "metadata": {},
   "outputs": [],
   "source": [
    "numeric_features = ['AGE','TRESTBPS','THALACH','CA','OLDPEAK']\n",
    "numeric_transformer = Pipeline(\n",
    "    steps=[(\"imputer\", SimpleImputer(strategy=\"median\")), (\"scaler\", StandardScaler())]\n",
    ")\n",
    "\n",
    "categorical_features = ['SEX','CP','FBS','RESTECG','EXANG','SLOPE','THAL']\n",
    "categorical_transformer = OneHotEncoder(handle_unknown=\"ignore\")\n",
    "\n",
    "preprocessor = ColumnTransformer(\n",
    "    transformers=[\n",
    "        (\"num\", numeric_transformer, numeric_features),\n",
    "        (\"cat\", categorical_transformer, categorical_features)]\n",
    ")\n",
    "pipe2 = Pipeline([(\"preprocessor\",preprocessor),(\"classifier\",clf)])"
   ]
  },
  {
   "cell_type": "code",
   "execution_count": 6,
   "metadata": {},
   "outputs": [
    {
     "data": {
      "text/html": [
       "<style>#sk-4f996747-6510-41d5-9ef9-6c4dca8d5f7b {color: black;background-color: white;}#sk-4f996747-6510-41d5-9ef9-6c4dca8d5f7b pre{padding: 0;}#sk-4f996747-6510-41d5-9ef9-6c4dca8d5f7b div.sk-toggleable {background-color: white;}#sk-4f996747-6510-41d5-9ef9-6c4dca8d5f7b label.sk-toggleable__label {cursor: pointer;display: block;width: 100%;margin-bottom: 0;padding: 0.2em 0.3em;box-sizing: border-box;text-align: center;}#sk-4f996747-6510-41d5-9ef9-6c4dca8d5f7b div.sk-toggleable__content {max-height: 0;max-width: 0;overflow: hidden;text-align: left;background-color: #f0f8ff;}#sk-4f996747-6510-41d5-9ef9-6c4dca8d5f7b div.sk-toggleable__content pre {margin: 0.2em;color: black;border-radius: 0.25em;background-color: #f0f8ff;}#sk-4f996747-6510-41d5-9ef9-6c4dca8d5f7b input.sk-toggleable__control:checked~div.sk-toggleable__content {max-height: 200px;max-width: 100%;overflow: auto;}#sk-4f996747-6510-41d5-9ef9-6c4dca8d5f7b div.sk-estimator input.sk-toggleable__control:checked~label.sk-toggleable__label {background-color: #d4ebff;}#sk-4f996747-6510-41d5-9ef9-6c4dca8d5f7b div.sk-label input.sk-toggleable__control:checked~label.sk-toggleable__label {background-color: #d4ebff;}#sk-4f996747-6510-41d5-9ef9-6c4dca8d5f7b input.sk-hidden--visually {border: 0;clip: rect(1px 1px 1px 1px);clip: rect(1px, 1px, 1px, 1px);height: 1px;margin: -1px;overflow: hidden;padding: 0;position: absolute;width: 1px;}#sk-4f996747-6510-41d5-9ef9-6c4dca8d5f7b div.sk-estimator {font-family: monospace;background-color: #f0f8ff;margin: 0.25em 0.25em;border: 1px dotted black;border-radius: 0.25em;box-sizing: border-box;}#sk-4f996747-6510-41d5-9ef9-6c4dca8d5f7b div.sk-estimator:hover {background-color: #d4ebff;}#sk-4f996747-6510-41d5-9ef9-6c4dca8d5f7b div.sk-parallel-item::after {content: \"\";width: 100%;border-bottom: 1px solid gray;flex-grow: 1;}#sk-4f996747-6510-41d5-9ef9-6c4dca8d5f7b div.sk-label:hover label.sk-toggleable__label {background-color: #d4ebff;}#sk-4f996747-6510-41d5-9ef9-6c4dca8d5f7b div.sk-serial::before {content: \"\";position: absolute;border-left: 1px solid gray;box-sizing: border-box;top: 2em;bottom: 0;left: 50%;}#sk-4f996747-6510-41d5-9ef9-6c4dca8d5f7b div.sk-serial {display: flex;flex-direction: column;align-items: center;background-color: white;}#sk-4f996747-6510-41d5-9ef9-6c4dca8d5f7b div.sk-item {z-index: 1;}#sk-4f996747-6510-41d5-9ef9-6c4dca8d5f7b div.sk-parallel {display: flex;align-items: stretch;justify-content: center;background-color: white;}#sk-4f996747-6510-41d5-9ef9-6c4dca8d5f7b div.sk-parallel-item {display: flex;flex-direction: column;position: relative;background-color: white;}#sk-4f996747-6510-41d5-9ef9-6c4dca8d5f7b div.sk-parallel-item:first-child::after {align-self: flex-end;width: 50%;}#sk-4f996747-6510-41d5-9ef9-6c4dca8d5f7b div.sk-parallel-item:last-child::after {align-self: flex-start;width: 50%;}#sk-4f996747-6510-41d5-9ef9-6c4dca8d5f7b div.sk-parallel-item:only-child::after {width: 0;}#sk-4f996747-6510-41d5-9ef9-6c4dca8d5f7b div.sk-dashed-wrapped {border: 1px dashed gray;margin: 0.2em;box-sizing: border-box;padding-bottom: 0.1em;background-color: white;position: relative;}#sk-4f996747-6510-41d5-9ef9-6c4dca8d5f7b div.sk-label label {font-family: monospace;font-weight: bold;background-color: white;display: inline-block;line-height: 1.2em;}#sk-4f996747-6510-41d5-9ef9-6c4dca8d5f7b div.sk-label-container {position: relative;z-index: 2;text-align: center;}#sk-4f996747-6510-41d5-9ef9-6c4dca8d5f7b div.sk-container {display: inline-block;position: relative;}</style><div id=\"sk-4f996747-6510-41d5-9ef9-6c4dca8d5f7b\" class\"sk-top-container\"><div class=\"sk-container\"><div class=\"sk-item sk-dashed-wrapped\"><div class=\"sk-label-container\"><div class=\"sk-label sk-toggleable\"><input class=\"sk-toggleable__control sk-hidden--visually\" id=\"b147c468-7697-4e39-bc9d-4d9b72ed4991\" type=\"checkbox\" ><label class=\"sk-toggleable__label\" for=\"b147c468-7697-4e39-bc9d-4d9b72ed4991\">Pipeline</label><div class=\"sk-toggleable__content\"><pre>Pipeline(steps=[('preprocessor',\n",
       "                 ColumnTransformer(transformers=[('num',\n",
       "                                                  Pipeline(steps=[('imputer',\n",
       "                                                                   SimpleImputer(strategy='median')),\n",
       "                                                                  ('scaler',\n",
       "                                                                   StandardScaler())]),\n",
       "                                                  ['AGE', 'TRESTBPS', 'THALACH',\n",
       "                                                   'CA', 'OLDPEAK']),\n",
       "                                                 ('cat',\n",
       "                                                  OneHotEncoder(handle_unknown='ignore'),\n",
       "                                                  ['SEX', 'CP', 'FBS',\n",
       "                                                   'RESTECG', 'EXANG', 'SLOPE',\n",
       "                                                   'THAL'])])),\n",
       "                ('classifier',\n",
       "                 KNeighborsClassifier(n_jobs=-1, n_neighbors=25))])</pre></div></div></div><div class=\"sk-serial\"><div class=\"sk-item sk-dashed-wrapped\"><div class=\"sk-label-container\"><div class=\"sk-label sk-toggleable\"><input class=\"sk-toggleable__control sk-hidden--visually\" id=\"e9258488-cf08-48b7-bf4c-a501f1334880\" type=\"checkbox\" ><label class=\"sk-toggleable__label\" for=\"e9258488-cf08-48b7-bf4c-a501f1334880\">preprocessor: ColumnTransformer</label><div class=\"sk-toggleable__content\"><pre>ColumnTransformer(transformers=[('num',\n",
       "                                 Pipeline(steps=[('imputer',\n",
       "                                                  SimpleImputer(strategy='median')),\n",
       "                                                 ('scaler', StandardScaler())]),\n",
       "                                 ['AGE', 'TRESTBPS', 'THALACH', 'CA',\n",
       "                                  'OLDPEAK']),\n",
       "                                ('cat', OneHotEncoder(handle_unknown='ignore'),\n",
       "                                 ['SEX', 'CP', 'FBS', 'RESTECG', 'EXANG',\n",
       "                                  'SLOPE', 'THAL'])])</pre></div></div></div><div class=\"sk-parallel\"><div class=\"sk-parallel-item\"><div class=\"sk-item\"><div class=\"sk-label-container\"><div class=\"sk-label sk-toggleable\"><input class=\"sk-toggleable__control sk-hidden--visually\" id=\"97fc9001-0b7b-41b7-adc3-db54d1086179\" type=\"checkbox\" ><label class=\"sk-toggleable__label\" for=\"97fc9001-0b7b-41b7-adc3-db54d1086179\">num</label><div class=\"sk-toggleable__content\"><pre>['AGE', 'TRESTBPS', 'THALACH', 'CA', 'OLDPEAK']</pre></div></div></div><div class=\"sk-serial\"><div class=\"sk-item\"><div class=\"sk-serial\"><div class=\"sk-item\"><div class=\"sk-estimator sk-toggleable\"><input class=\"sk-toggleable__control sk-hidden--visually\" id=\"ed03d808-e372-46b7-bbea-7df2a670d8fd\" type=\"checkbox\" ><label class=\"sk-toggleable__label\" for=\"ed03d808-e372-46b7-bbea-7df2a670d8fd\">SimpleImputer</label><div class=\"sk-toggleable__content\"><pre>SimpleImputer(strategy='median')</pre></div></div></div><div class=\"sk-item\"><div class=\"sk-estimator sk-toggleable\"><input class=\"sk-toggleable__control sk-hidden--visually\" id=\"ff8aaef0-ea1d-48c3-be79-84e0023ec178\" type=\"checkbox\" ><label class=\"sk-toggleable__label\" for=\"ff8aaef0-ea1d-48c3-be79-84e0023ec178\">StandardScaler</label><div class=\"sk-toggleable__content\"><pre>StandardScaler()</pre></div></div></div></div></div></div></div></div><div class=\"sk-parallel-item\"><div class=\"sk-item\"><div class=\"sk-label-container\"><div class=\"sk-label sk-toggleable\"><input class=\"sk-toggleable__control sk-hidden--visually\" id=\"be1a0d11-7c90-4413-8fff-812d4fcfa4e6\" type=\"checkbox\" ><label class=\"sk-toggleable__label\" for=\"be1a0d11-7c90-4413-8fff-812d4fcfa4e6\">cat</label><div class=\"sk-toggleable__content\"><pre>['SEX', 'CP', 'FBS', 'RESTECG', 'EXANG', 'SLOPE', 'THAL']</pre></div></div></div><div class=\"sk-serial\"><div class=\"sk-item\"><div class=\"sk-estimator sk-toggleable\"><input class=\"sk-toggleable__control sk-hidden--visually\" id=\"b3f8bdc0-b2ec-48bb-b13d-30bb8f7a269c\" type=\"checkbox\" ><label class=\"sk-toggleable__label\" for=\"b3f8bdc0-b2ec-48bb-b13d-30bb8f7a269c\">OneHotEncoder</label><div class=\"sk-toggleable__content\"><pre>OneHotEncoder(handle_unknown='ignore')</pre></div></div></div></div></div></div></div></div><div class=\"sk-item\"><div class=\"sk-estimator sk-toggleable\"><input class=\"sk-toggleable__control sk-hidden--visually\" id=\"5b4b8c5c-8d42-4ea7-b4b8-9df0889515cf\" type=\"checkbox\" ><label class=\"sk-toggleable__label\" for=\"5b4b8c5c-8d42-4ea7-b4b8-9df0889515cf\">KNeighborsClassifier</label><div class=\"sk-toggleable__content\"><pre>KNeighborsClassifier(n_jobs=-1, n_neighbors=25)</pre></div></div></div></div></div></div></div>"
      ],
      "text/plain": [
       "Pipeline(steps=[('preprocessor',\n",
       "                 ColumnTransformer(transformers=[('num',\n",
       "                                                  Pipeline(steps=[('imputer',\n",
       "                                                                   SimpleImputer(strategy='median')),\n",
       "                                                                  ('scaler',\n",
       "                                                                   StandardScaler())]),\n",
       "                                                  ['AGE', 'TRESTBPS', 'THALACH',\n",
       "                                                   'CA', 'OLDPEAK']),\n",
       "                                                 ('cat',\n",
       "                                                  OneHotEncoder(handle_unknown='ignore'),\n",
       "                                                  ['SEX', 'CP', 'FBS',\n",
       "                                                   'RESTECG', 'EXANG', 'SLOPE',\n",
       "                                                   'THAL'])])),\n",
       "                ('classifier',\n",
       "                 KNeighborsClassifier(n_jobs=-1, n_neighbors=25))])"
      ]
     },
     "execution_count": 6,
     "metadata": {},
     "output_type": "execute_result"
    },
    {
     "data": {
      "text/plain": [
       "0.8324022346368715"
      ]
     },
     "execution_count": 6,
     "metadata": {},
     "output_type": "execute_result"
    }
   ],
   "source": [
    "X2 = heart_df.drop(columns='DIAG')\n",
    "y2 = heart_df['DIAG']\n",
    "X2_train, X2_test, y2_train, y2_test = train_test_split(X2, y2, train_size=0.4, random_state=1,stratify=y2)\n",
    "pipe2.fit(X2_train,y2_train)\n",
    "pipe2.score(X2_test, y2_test)\n",
    "\n",
    "# Note our score improves likely because we stratified the split in this effort"
   ]
  },
  {
   "cell_type": "markdown",
   "metadata": {},
   "source": [
    "<div align='center'/>\n",
    "\n",
    "[Back to TOC](./00-Introduction.ipynb)"
   ]
  }
 ],
 "metadata": {
  "interpreter": {
   "hash": "d4d1e4263499bec80672ea0156c357c1ee493ec2b1c70f0acce89fc37c4a6abe"
  },
  "kernelspec": {
   "display_name": "Python 3.9.7 ('base')",
   "language": "python",
   "name": "python3"
  },
  "language_info": {
   "codemirror_mode": {
    "name": "ipython",
    "version": 3
   },
   "file_extension": ".py",
   "mimetype": "text/x-python",
   "name": "python",
   "nbconvert_exporter": "python",
   "pygments_lexer": "ipython3",
   "version": "3.9.7"
  },
  "orig_nbformat": 4
 },
 "nbformat": 4,
 "nbformat_minor": 2
}

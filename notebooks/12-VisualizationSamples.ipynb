{
 "cells": [
  {
   "cell_type": "markdown",
   "metadata": {
    "ExecuteTime": {
     "end_time": "2019-07-15T16:17:32.061315Z",
     "start_time": "2019-07-15T16:17:32.058316Z"
    }
   },
   "source": [
    "# Visualization Examples\n",
    "This notebook demonstrates a few visualization techniques just to show what is possible.  It starts with an overview of a complex visualization which uses the oft used, diamonds dataset.  Here it shows how subplots can be used to show different kinds of charts all in one go.\n",
    "\n",
    "Following this the `mtcars` dataset is used to demonstrate how to visualize up to seven different dimensions in a single unified visual.  Each step adding one more piece of information to the overall picture."
   ]
  },
  {
   "cell_type": "code",
   "execution_count": null,
   "metadata": {
    "ExecuteTime": {
     "end_time": "2019-07-15T15:28:46.835372Z",
     "start_time": "2019-07-15T15:28:46.832867Z"
    }
   },
   "outputs": [],
   "source": [
    "import pandas as pd\n",
    "import seaborn as sns\n",
    "import matplotlib.pyplot as plt\n",
    "from plotnine import *\n",
    "from plotnine.data import mtcars\n",
    "from plotnine.data import diamonds as d\n",
    "from plotnine.data import msleep\n",
    "from pandas.api.types import CategoricalDtype"
   ]
  },
  {
   "cell_type": "code",
   "execution_count": null,
   "metadata": {},
   "outputs": [],
   "source": [
    "\n",
    "f, axarr= plt.subplots(2,2, sharex=False, sharey=False, figsize=(18, 16))\n",
    "f.tight_layout()\n",
    "clarity_cat = CategoricalDtype(categories=['I1','SI1','SI2','VS1','VS2','VVS1', 'VVS2','IF'], ordered=True)\n",
    "d['clarity'] = d.clarity.astype(clarity_cat)\n",
    "sns.scatterplot(x=d.carat,y=d.price, ax=axarr[0,0])\n",
    "sns.scatterplot(x=d.table,y=d.price, ax=axarr[0,1])\n",
    "sns.barplot(x=d.color,y=d.price, ax=axarr[1,0])\n",
    "sns.barplot(x=d.clarity, y=d.price, ax=axarr[1,1])\n",
    "plt.setp(axarr[1,0].xaxis.get_majorticklabels(), rotation=45)\n",
    "plt.setp(axarr[1,1].xaxis.get_majorticklabels(), rotation=45);"
   ]
  },
  {
   "cell_type": "markdown",
   "metadata": {},
   "source": [
    "## mtcars\n",
    "This next set of visuals shows how we can disect a dataset along 1 to 7 dimensions."
   ]
  },
  {
   "cell_type": "code",
   "execution_count": null,
   "metadata": {
    "ExecuteTime": {
     "end_time": "2019-07-15T15:28:49.378929Z",
     "start_time": "2019-07-15T15:28:49.363928Z"
    }
   },
   "outputs": [],
   "source": [
    "df = mtcars\n",
    "df['cyl'] = df.cyl.astype('category')\n",
    "df['am'] = df.am.astype('category')\n",
    "df['gear'] = df.gear.astype('category')\n",
    "df['trans'] = df.am.apply(lambda x: 'auto' if x else 'man')\n",
    "df['engine'] = df.vs.apply(lambda x: 'V-shaped' if x else 'straight')\n"
   ]
  },
  {
   "cell_type": "markdown",
   "metadata": {},
   "source": [
    "It is often helpful to view a single dimension of data to understand it's distribution.  We can use multiple different kinds of visuals here (histogram, pie-chart and kernel density plot come to mind).  But I'm not a huge fan of pie charts as they often are difficult to read, so a histogram works well.  We could also use a kernel density plot, which removes the issue with choosing a bin size."
   ]
  },
  {
   "cell_type": "code",
   "execution_count": null,
   "metadata": {},
   "outputs": [],
   "source": [
    "(ggplot(mtcars, aes(x='mpg', y='stat(count)')) + geom_histogram()\n",
    "+ ggtitle('Distribution of cars by MPG'))"
   ]
  },
  {
   "cell_type": "code",
   "execution_count": null,
   "metadata": {},
   "outputs": [],
   "source": [
    "(ggplot(df, aes('mpg'))\n",
    "+ geom_density()\n",
    "+ ggtitle('Distribution of cars by MPG'))"
   ]
  },
  {
   "cell_type": "markdown",
   "metadata": {},
   "source": [
    "When we want to consider the data in two dimensions, one way to go about this is to consider two axises.  In this way we see the relationship between the two variables."
   ]
  },
  {
   "cell_type": "code",
   "execution_count": null,
   "metadata": {
    "ExecuteTime": {
     "end_time": "2019-07-13T21:53:47.575349Z",
     "start_time": "2019-07-13T21:53:47.306848Z"
    }
   },
   "outputs": [],
   "source": [
    "(ggplot(df, aes(x='wt', y='mpg'))\n",
    " +geom_point()\n",
    " + xlab(\"Car weight in 1000lbs\")\n",
    " +geom_smooth(method='lm')\n",
    "+ ggtitle('MPG by car weight'))"
   ]
  },
  {
   "cell_type": "markdown",
   "metadata": {},
   "source": [
    "Adding a third dimension (in this case `gear`) to our scatterplot allows us to see even more insights in our data.  For instance, once we color the chart, we can see that cars in our dataset with 3 gears tend to weigh more and have a lower MPG.  While cars with 4 gears seem to be lighter and more efficient."
   ]
  },
  {
   "cell_type": "code",
   "execution_count": null,
   "metadata": {
    "ExecuteTime": {
     "end_time": "2019-07-13T22:13:47.957418Z",
     "start_time": "2019-07-13T22:13:47.738923Z"
    }
   },
   "outputs": [],
   "source": [
    "(ggplot(df, aes(x='wt', y='mpg', color='gear'))\n",
    " +geom_point()\n",
    " + xlab(\"Car weight in 1000lbs\")\n",
    "+ ggtitle('MPG by car weight'))"
   ]
  },
  {
   "cell_type": "markdown",
   "metadata": {},
   "source": [
    "Size allows us to add a fourth dimension to our data.  In this case, we've decided to look at the number of cylinders for the size.  While we could certainly have used size for any of the other dimensions that we considered previously, it seems to make sense that we would use size here as it's clear that a 4-cylinder engine is usually smaller than a 6 or 8-cylinder.  Using one of the aesthetics might make sense, but size seems to fit best here."
   ]
  },
  {
   "cell_type": "code",
   "execution_count": null,
   "metadata": {
    "ExecuteTime": {
     "end_time": "2019-07-13T22:15:28.635267Z",
     "start_time": "2019-07-13T22:15:28.312771Z"
    }
   },
   "outputs": [],
   "source": [
    "(ggplot(df, aes(x='wt', y='mpg', color='gear', size='cyl'))\n",
    " +geom_jitter(alpha=0.5) \n",
    " + labs(x=\"Car weight in 1000lbs\", title='MPG by car weight'))"
   ]
  },
  {
   "cell_type": "markdown",
   "metadata": {},
   "source": [
    "So far, we have developed a single chart with 4 unique pieces of information all at a glance and we haven't really cluttered our visual a whole lot.  Let's see how much further we can go before the visual gets too busy.  (The key is to select the right aesthetic for the right dimension in order that it makes sense).\n",
    "\n",
    "Our next dimension is the type of engine.  Our dataset has V shaped engines and straight.  This is best represented by changing the `shape` of our markers.  You can see below that most of our 8-cylinder engines tend to be three speed and have a "
   ]
  },
  {
   "cell_type": "code",
   "execution_count": null,
   "metadata": {
    "ExecuteTime": {
     "end_time": "2019-07-13T22:23:07.559254Z",
     "start_time": "2019-07-13T22:23:07.201229Z"
    }
   },
   "outputs": [],
   "source": [
    "# This line supresses a warning about using an aestethic in an unexpected way,\n",
    "#   it can be removed to see the warning.\n",
    "%%capture --no-display\n",
    "\n",
    "(ggplot(df, aes(x='wt', y='mpg', color='gear', size='cyl', shape='engine'))\n",
    "+ scale_shape_manual([\"v\",\"s\"])\n",
    "+ geom_jitter(alpha=0.5) \n",
    "+ labs(x=\"Car weight in 1000lbs\", title='MPG by car weight'))"
   ]
  },
  {
   "cell_type": "markdown",
   "metadata": {},
   "source": [
    "We can see now up to 5 dimensions, and here is where the interesting steps come in.  Let's say we want to see all the previous information, but we'd like to focus on the particular type of transmission.  We could adjust the shapes to account for the 4 different types (V-shaped + manual, V-shaped + automatic, straight manual, straight automatic) or we could use color with this combined factor.  But instead we can simply split our visual into two visuals using facets."
   ]
  },
  {
   "cell_type": "code",
   "execution_count": null,
   "metadata": {
    "ExecuteTime": {
     "end_time": "2019-07-13T22:23:46.915205Z",
     "start_time": "2019-07-13T22:23:46.466104Z"
    }
   },
   "outputs": [],
   "source": [
    "%%capture --no-display\n",
    "\n",
    "(ggplot(df, aes(x='wt', y='mpg', color='gear', size='cyl', shape='engine'))\n",
    " +geom_jitter(alpha=0.5) \n",
    " + scale_shape_manual([\"v\",\"s\"])\n",
    " +facet_grid('~trans')\n",
    "  + labs(x=\"Car weight in 1000lbs\", title='MPG by car weight'))"
   ]
  },
  {
   "cell_type": "code",
   "execution_count": null,
   "metadata": {
    "ExecuteTime": {
     "end_time": "2019-07-15T17:19:11.089297Z",
     "start_time": "2019-07-15T17:19:09.983800Z"
    }
   },
   "outputs": [],
   "source": [
    "(ggplot(df, aes(x='wt', y='mpg', color='gear', size='cyl', shape='engine'))\n",
    " +geom_jitter(alpha=0.5) \n",
    " +facet_grid('carb~trans', labeller=label_both)\n",
    "  + labs(x=\"Car weight in 1000lbs\", title='MPG by car weight, transmission type and carburaters'))"
   ]
  }
 ],
 "metadata": {
  "kernel_info": {
   "name": "python3"
  },
  "kernelspec": {
   "display_name": "Python 3",
   "language": "python",
   "name": "python3"
  },
  "language_info": {
   "codemirror_mode": {
    "name": "ipython",
    "version": 3
   },
   "file_extension": ".py",
   "mimetype": "text/x-python",
   "name": "python",
   "nbconvert_exporter": "python",
   "pygments_lexer": "ipython3",
   "version": "3.9.7"
  },
  "nteract": {
   "version": "0.14.3"
  },
  "toc": {
   "base_numbering": 1,
   "nav_menu": {},
   "number_sections": true,
   "sideBar": true,
   "skip_h1_title": false,
   "title_cell": "Table of Contents",
   "title_sidebar": "Contents",
   "toc_cell": false,
   "toc_position": {},
   "toc_section_display": true,
   "toc_window_display": false
  },
  "varInspector": {
   "cols": {
    "lenName": 16,
    "lenType": 16,
    "lenVar": 40
   },
   "kernels_config": {
    "python": {
     "delete_cmd_postfix": "",
     "delete_cmd_prefix": "del ",
     "library": "var_list.py",
     "varRefreshCmd": "print(var_dic_list())"
    },
    "r": {
     "delete_cmd_postfix": ") ",
     "delete_cmd_prefix": "rm(",
     "library": "var_list.r",
     "varRefreshCmd": "cat(var_dic_list()) "
    }
   },
   "types_to_exclude": [
    "module",
    "function",
    "builtin_function_or_method",
    "instance",
    "_Feature"
   ],
   "window_display": false
  }
 },
 "nbformat": 4,
 "nbformat_minor": 2
}

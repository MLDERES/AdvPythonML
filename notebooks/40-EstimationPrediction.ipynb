{
 "cells": [
  {
   "cell_type": "code",
   "execution_count": 70,
   "metadata": {},
   "outputs": [
    {
     "name": "stdout",
     "output_type": "stream",
     "text": [
      "The autoreload extension is already loaded. To reload it, use:\n",
      "  %reload_ext autoreload\n"
     ]
    }
   ],
   "source": [
    "%load_ext autoreload\n",
    "%autoreload 2\n",
    "import pandas as pd\n",
    "import numpy as np\n",
    "from sklearn.model_selection import train_test_split\n",
    "from sklearn.metrics import mean_absolute_error as MAE, mean_absolute_percentage_error as MAPE, mean_squared_error as MSE \n",
    "import seaborn as sns\n",
    "import matplotlib.pyplot as plt\n",
    "import sys\n",
    "sys.path.append('..')\n",
    "from src.data import load_data\n",
    "from src.metric import regressionSummary,adjusted_r2_score\n",
    "import pprint as pp\n",
    "pd.set_option('precision',4)\n",
    "pd.options.display.max_rows = 200\n",
    "from IPython.core.interactiveshell import InteractiveShell\n",
    "InteractiveShell.ast_node_interactivity = \"all\""
   ]
  },
  {
   "cell_type": "markdown",
   "metadata": {},
   "source": [
    "# Prediction and Estimation\n",
    "Estimation is about finding a model that explains existing data as well as possible, while predictive models are best when they can determine unknown values given the independent factors.\n",
    "\n",
    "## Evaluating Predictive Performance\n",
    "Evaluating performance of predictive or estimation models which use continuous targets uses a different technique than quantifying error rates.  Predictions are not simply correct or incorrect, but we can decide how close we were in our prediction or how far away.  A few techniques to determine performance of continuous target predictions include: \n",
    "\n",
    "* Mean Error - the average difference between the predicted and expected target\n",
    "  * Valuable if the direction of the prediction is important (too high or too low) though it can be misleading since too-high and too-low can cancel each other out.\n",
    "* MAE - Mean absolute error - the average difference between the predicted and expected target not accounting for sign \n",
    "(+/-)\n",
    "  * takes the too high or too low issue out of play\n",
    "* MPE - Mean percentage error - average percentage difference between predicted and expected target\n",
    "* MAPE - Mean absolute percentage error - average percentage difference between predicted and expected target (using absolute values rather than positive or negative error)\n",
    "* MSE - Mean square error - average of the square of the error of each prediction\n",
    "  * penalizes significant outliers and removes units so it is a relative metric only\n",
    "* RMSE - Root mean square error - square root of the average of the square of the error of each prediction (provides relative units)\n",
    "  * still significantly penalizes bigger errors but also provides units of the base metric\n"
   ]
  },
  {
   "cell_type": "markdown",
   "metadata": {},
   "source": [
    "## Multiple Linear Regression\n",
    "Linear regression models are a great model to explain a linear relationship between predictors and target variables (assuming a linear relationship exists).  They are easy to explain and have a built-in metric to identify the importance of each predictor.  Also, we can use this information to include just enough of the variables to accurately describe the target possibly reducing the complexity\n",
    "\n",
    "With linear regression we are attempting to describe a target variable in terms of a set of coefficients in a linear equation such as:\n",
    "$$Y = \\beta_0+\\beta_1X_1+\\beta_2X_2 + ... \\beta_nX_n + \\epsilon$$\n",
    "where $\\beta$ represents coefficients and $X$ are the predictive factors (independent variables) and $\\epsilon$ is _noise_ or _unexplainable_ part.  Data is used to estimate the coefficients and quantify the noise."
   ]
  },
  {
   "cell_type": "markdown",
   "metadata": {},
   "source": [
    "## Medical Insurance Forecast\n",
    "Insurance companies need to set the insurance premiums following the population trends despite having limited information about the insured population if they have to put themselves in a position to make profits. This makes it necessary to estimate the average medical care expenses based on trends in the population segments, such as smokers, drivers, etc\n",
    "\n",
    "[data dictionary](../data/insurance.csv#insurance)"
   ]
  },
  {
   "cell_type": "code",
   "execution_count": 46,
   "metadata": {},
   "outputs": [
    {
     "data": {
      "text/html": [
       "<div>\n",
       "<style scoped>\n",
       "    .dataframe tbody tr th:only-of-type {\n",
       "        vertical-align: middle;\n",
       "    }\n",
       "\n",
       "    .dataframe tbody tr th {\n",
       "        vertical-align: top;\n",
       "    }\n",
       "\n",
       "    .dataframe thead th {\n",
       "        text-align: right;\n",
       "    }\n",
       "</style>\n",
       "<table border=\"1\" class=\"dataframe\">\n",
       "  <thead>\n",
       "    <tr style=\"text-align: right;\">\n",
       "      <th></th>\n",
       "      <th>age</th>\n",
       "      <th>sex</th>\n",
       "      <th>bmi</th>\n",
       "      <th>children</th>\n",
       "      <th>smoker</th>\n",
       "      <th>region</th>\n",
       "      <th>charges</th>\n",
       "    </tr>\n",
       "  </thead>\n",
       "  <tbody>\n",
       "    <tr>\n",
       "      <th>0</th>\n",
       "      <td>19</td>\n",
       "      <td>female</td>\n",
       "      <td>27.900</td>\n",
       "      <td>0</td>\n",
       "      <td>yes</td>\n",
       "      <td>southwest</td>\n",
       "      <td>16884.9240</td>\n",
       "    </tr>\n",
       "    <tr>\n",
       "      <th>1</th>\n",
       "      <td>18</td>\n",
       "      <td>male</td>\n",
       "      <td>33.770</td>\n",
       "      <td>1</td>\n",
       "      <td>no</td>\n",
       "      <td>southeast</td>\n",
       "      <td>1725.5523</td>\n",
       "    </tr>\n",
       "    <tr>\n",
       "      <th>2</th>\n",
       "      <td>28</td>\n",
       "      <td>male</td>\n",
       "      <td>33.000</td>\n",
       "      <td>3</td>\n",
       "      <td>no</td>\n",
       "      <td>southeast</td>\n",
       "      <td>4449.4620</td>\n",
       "    </tr>\n",
       "    <tr>\n",
       "      <th>3</th>\n",
       "      <td>33</td>\n",
       "      <td>male</td>\n",
       "      <td>22.705</td>\n",
       "      <td>0</td>\n",
       "      <td>no</td>\n",
       "      <td>northwest</td>\n",
       "      <td>21984.4706</td>\n",
       "    </tr>\n",
       "    <tr>\n",
       "      <th>4</th>\n",
       "      <td>32</td>\n",
       "      <td>male</td>\n",
       "      <td>28.880</td>\n",
       "      <td>0</td>\n",
       "      <td>no</td>\n",
       "      <td>northwest</td>\n",
       "      <td>3866.8552</td>\n",
       "    </tr>\n",
       "  </tbody>\n",
       "</table>\n",
       "</div>"
      ],
      "text/plain": [
       "   age     sex     bmi  children smoker     region     charges\n",
       "0   19  female  27.900         0    yes  southwest  16884.9240\n",
       "1   18    male  33.770         1     no  southeast   1725.5523\n",
       "2   28    male  33.000         3     no  southeast   4449.4620\n",
       "3   33    male  22.705         0     no  northwest  21984.4706\n",
       "4   32    male  28.880         0     no  northwest   3866.8552"
      ]
     },
     "execution_count": 46,
     "metadata": {},
     "output_type": "execute_result"
    }
   ],
   "source": [
    "insurance_df = load_data('insurance')\n",
    "# Start with checking our the first few rows\n",
    "insurance_df.head()\n"
   ]
  },
  {
   "cell_type": "code",
   "execution_count": 47,
   "metadata": {},
   "outputs": [
    {
     "data": {
      "text/plain": [
       "age           int64\n",
       "sex          object\n",
       "bmi         float64\n",
       "children      int64\n",
       "smoker       object\n",
       "region       object\n",
       "charges     float64\n",
       "dtype: object"
      ]
     },
     "execution_count": 47,
     "metadata": {},
     "output_type": "execute_result"
    }
   ],
   "source": [
    "# We need to let pandas know that we have categorical data in a couple columns\n",
    "insurance_df.dtypes"
   ]
  },
  {
   "cell_type": "code",
   "execution_count": 48,
   "metadata": {},
   "outputs": [],
   "source": [
    "# Categorize the columns\n",
    "for c in ['sex','smoker','region']:\n",
    "    insurance_df[c]=insurance_df[c].astype('category')"
   ]
  },
  {
   "cell_type": "code",
   "execution_count": 49,
   "metadata": {},
   "outputs": [
    {
     "data": {
      "text/plain": [
       "<AxesSubplot:>"
      ]
     },
     "execution_count": 49,
     "metadata": {},
     "output_type": "execute_result"
    },
    {
     "data": {
      "image/png": "[encoded data removed]",
      "text/plain": [
       "<Figure size 1440x720 with 1 Axes>"
      ]
     },
     "metadata": {
      "needs_background": "light"
     },
     "output_type": "display_data"
    }
   ],
   "source": [
    "# What's the range of charges\n",
    "insurance_df.charges.hist()"
   ]
  },
  {
   "cell_type": "code",
   "execution_count": 50,
   "metadata": {},
   "outputs": [
    {
     "data": {
      "text/plain": [
       "<AxesSubplot:xlabel='region', ylabel='charges'>"
      ]
     },
     "execution_count": 50,
     "metadata": {},
     "output_type": "execute_result"
    },
    {
     "data": {
      "image/png": "[encoded data removed]",
      "text/plain": [
       "<Figure size 1440x720 with 1 Axes>"
      ]
     },
     "metadata": {
      "needs_background": "light"
     },
     "output_type": "display_data"
    }
   ],
   "source": [
    "plt.rcParams[\"figure.figsize\"] = (20, 10)\n",
    "sns.boxplot(data=insurance_df, x='region',y='charges')"
   ]
  },
  {
   "cell_type": "markdown",
   "metadata": {},
   "source": [
    "### About BMI\n",
    "The CDC has the following [guidance][1] with regard to interpreting BMI:\n",
    "> * If your BMI is less than 18.5, it falls within the underweight range.\n",
    "> * If your BMI is 18.5 to <25, it falls within the healthy weight range.\n",
    "> * If your BMI is 25.0 to <30, it falls within the overweight range.\n",
    "> * If your BMI is 30.0 or higher, it falls within the obesity range.\n",
    "\n",
    "It seems like a good idea to build categories for these values\n",
    "\n",
    "[1]: ([https://www.cdc.gov/obesity/adult/defining.html#:~:text=Adult%20Body%20Mass%20Index%20%28BMI%29%20%20%20,%20%20Obesity%20%201%20more%20rows%20)"
   ]
  },
  {
   "cell_type": "code",
   "execution_count": 51,
   "metadata": {},
   "outputs": [],
   "source": [
    "# Build the categories for BMI based on CDC guidance\n",
    "insurance_df['bmi_cat'] = pd.cut(insurance_df.bmi,\n",
    "    bins=[0,18.5,25,30,100],\n",
    "    labels=['underweight','healthy','overweight','obese'])"
   ]
  },
  {
   "cell_type": "code",
   "execution_count": 52,
   "metadata": {},
   "outputs": [
    {
     "data": {
      "text/plain": [
       "<AxesSubplot:xlabel='bmi_cat', ylabel='charges'>"
      ]
     },
     "execution_count": 52,
     "metadata": {},
     "output_type": "execute_result"
    },
    {
     "data": {
      "image/png": "[encoded data removed]",
      "text/plain": [
       "<Figure size 1440x720 with 1 Axes>"
      ]
     },
     "metadata": {
      "needs_background": "light"
     },
     "output_type": "display_data"
    }
   ],
   "source": [
    "# Now let's take a look to see if this plays a role\n",
    "sns.boxplot(data=insurance_df, x='bmi_cat',y='charges')"
   ]
  },
  {
   "cell_type": "markdown",
   "metadata": {},
   "source": [
    "We are seeing exactly what we suspect that individuals that are overweight or obese are more likely to cause the insurance company more.  We could quanitify it as well"
   ]
  },
  {
   "cell_type": "code",
   "execution_count": 53,
   "metadata": {},
   "outputs": [
    {
     "data": {
      "text/plain": [
       "bmi_cat\n",
       "underweight     8657.6207\n",
       "healthy        10435.4407\n",
       "overweight     10997.8039\n",
       "obese          15560.9263\n",
       "Name: charges, dtype: float64"
      ]
     },
     "execution_count": 53,
     "metadata": {},
     "output_type": "execute_result"
    }
   ],
   "source": [
    "# What's the actual difference in average cost\n",
    "insurance_df.groupby('bmi_cat')['charges'].mean()"
   ]
  },
  {
   "cell_type": "markdown",
   "metadata": {},
   "source": [
    "You may want to do some more digging into the data or creating some other new factors to help determine if we can find a good predictive model.  We'll use what we have here."
   ]
  },
  {
   "cell_type": "code",
   "execution_count": 54,
   "metadata": {},
   "outputs": [
    {
     "data": {
      "text/plain": [
       "Index(['age', 'bmi', 'children', 'charges'], dtype='object')"
      ]
     },
     "execution_count": 54,
     "metadata": {},
     "output_type": "execute_result"
    },
    {
     "data": {
      "text/plain": [
       "Index(['sex', 'smoker', 'region', 'bmi_cat'], dtype='object')"
      ]
     },
     "execution_count": 54,
     "metadata": {},
     "output_type": "execute_result"
    }
   ],
   "source": [
    "# We need to ensure that our data is 'encoded' to work with the linear model\n",
    "num_columns=insurance_df.select_dtypes(include='number').columns\n",
    "cat_columns=insurance_df.select_dtypes(exclude='number').columns\n",
    "num_columns\n",
    "cat_columns"
   ]
  },
  {
   "cell_type": "code",
   "execution_count": 55,
   "metadata": {},
   "outputs": [
    {
     "data": {
      "text/html": [
       "<div>\n",
       "<style scoped>\n",
       "    .dataframe tbody tr th:only-of-type {\n",
       "        vertical-align: middle;\n",
       "    }\n",
       "\n",
       "    .dataframe tbody tr th {\n",
       "        vertical-align: top;\n",
       "    }\n",
       "\n",
       "    .dataframe thead th {\n",
       "        text-align: right;\n",
       "    }\n",
       "</style>\n",
       "<table border=\"1\" class=\"dataframe\">\n",
       "  <thead>\n",
       "    <tr style=\"text-align: right;\">\n",
       "      <th></th>\n",
       "      <th>age</th>\n",
       "      <th>bmi</th>\n",
       "      <th>children</th>\n",
       "      <th>charges</th>\n",
       "      <th>sex_female</th>\n",
       "      <th>sex_male</th>\n",
       "      <th>smoker_no</th>\n",
       "      <th>smoker_yes</th>\n",
       "      <th>region_northeast</th>\n",
       "      <th>region_northwest</th>\n",
       "      <th>region_southeast</th>\n",
       "      <th>region_southwest</th>\n",
       "      <th>bmi_cat_underweight</th>\n",
       "      <th>bmi_cat_healthy</th>\n",
       "      <th>bmi_cat_overweight</th>\n",
       "      <th>bmi_cat_obese</th>\n",
       "    </tr>\n",
       "  </thead>\n",
       "  <tbody>\n",
       "    <tr>\n",
       "      <th>0</th>\n",
       "      <td>19</td>\n",
       "      <td>27.900</td>\n",
       "      <td>0</td>\n",
       "      <td>16884.9240</td>\n",
       "      <td>1</td>\n",
       "      <td>0</td>\n",
       "      <td>0</td>\n",
       "      <td>1</td>\n",
       "      <td>0</td>\n",
       "      <td>0</td>\n",
       "      <td>0</td>\n",
       "      <td>1</td>\n",
       "      <td>0</td>\n",
       "      <td>0</td>\n",
       "      <td>1</td>\n",
       "      <td>0</td>\n",
       "    </tr>\n",
       "    <tr>\n",
       "      <th>1</th>\n",
       "      <td>18</td>\n",
       "      <td>33.770</td>\n",
       "      <td>1</td>\n",
       "      <td>1725.5523</td>\n",
       "      <td>0</td>\n",
       "      <td>1</td>\n",
       "      <td>1</td>\n",
       "      <td>0</td>\n",
       "      <td>0</td>\n",
       "      <td>0</td>\n",
       "      <td>1</td>\n",
       "      <td>0</td>\n",
       "      <td>0</td>\n",
       "      <td>0</td>\n",
       "      <td>0</td>\n",
       "      <td>1</td>\n",
       "    </tr>\n",
       "    <tr>\n",
       "      <th>2</th>\n",
       "      <td>28</td>\n",
       "      <td>33.000</td>\n",
       "      <td>3</td>\n",
       "      <td>4449.4620</td>\n",
       "      <td>0</td>\n",
       "      <td>1</td>\n",
       "      <td>1</td>\n",
       "      <td>0</td>\n",
       "      <td>0</td>\n",
       "      <td>0</td>\n",
       "      <td>1</td>\n",
       "      <td>0</td>\n",
       "      <td>0</td>\n",
       "      <td>0</td>\n",
       "      <td>0</td>\n",
       "      <td>1</td>\n",
       "    </tr>\n",
       "    <tr>\n",
       "      <th>3</th>\n",
       "      <td>33</td>\n",
       "      <td>22.705</td>\n",
       "      <td>0</td>\n",
       "      <td>21984.4706</td>\n",
       "      <td>0</td>\n",
       "      <td>1</td>\n",
       "      <td>1</td>\n",
       "      <td>0</td>\n",
       "      <td>0</td>\n",
       "      <td>1</td>\n",
       "      <td>0</td>\n",
       "      <td>0</td>\n",
       "      <td>0</td>\n",
       "      <td>1</td>\n",
       "      <td>0</td>\n",
       "      <td>0</td>\n",
       "    </tr>\n",
       "    <tr>\n",
       "      <th>4</th>\n",
       "      <td>32</td>\n",
       "      <td>28.880</td>\n",
       "      <td>0</td>\n",
       "      <td>3866.8552</td>\n",
       "      <td>0</td>\n",
       "      <td>1</td>\n",
       "      <td>1</td>\n",
       "      <td>0</td>\n",
       "      <td>0</td>\n",
       "      <td>1</td>\n",
       "      <td>0</td>\n",
       "      <td>0</td>\n",
       "      <td>0</td>\n",
       "      <td>0</td>\n",
       "      <td>1</td>\n",
       "      <td>0</td>\n",
       "    </tr>\n",
       "    <tr>\n",
       "      <th>...</th>\n",
       "      <td>...</td>\n",
       "      <td>...</td>\n",
       "      <td>...</td>\n",
       "      <td>...</td>\n",
       "      <td>...</td>\n",
       "      <td>...</td>\n",
       "      <td>...</td>\n",
       "      <td>...</td>\n",
       "      <td>...</td>\n",
       "      <td>...</td>\n",
       "      <td>...</td>\n",
       "      <td>...</td>\n",
       "      <td>...</td>\n",
       "      <td>...</td>\n",
       "      <td>...</td>\n",
       "      <td>...</td>\n",
       "    </tr>\n",
       "    <tr>\n",
       "      <th>1333</th>\n",
       "      <td>50</td>\n",
       "      <td>30.970</td>\n",
       "      <td>3</td>\n",
       "      <td>10600.5483</td>\n",
       "      <td>0</td>\n",
       "      <td>1</td>\n",
       "      <td>1</td>\n",
       "      <td>0</td>\n",
       "      <td>0</td>\n",
       "      <td>1</td>\n",
       "      <td>0</td>\n",
       "      <td>0</td>\n",
       "      <td>0</td>\n",
       "      <td>0</td>\n",
       "      <td>0</td>\n",
       "      <td>1</td>\n",
       "    </tr>\n",
       "    <tr>\n",
       "      <th>1334</th>\n",
       "      <td>18</td>\n",
       "      <td>31.920</td>\n",
       "      <td>0</td>\n",
       "      <td>2205.9808</td>\n",
       "      <td>1</td>\n",
       "      <td>0</td>\n",
       "      <td>1</td>\n",
       "      <td>0</td>\n",
       "      <td>1</td>\n",
       "      <td>0</td>\n",
       "      <td>0</td>\n",
       "      <td>0</td>\n",
       "      <td>0</td>\n",
       "      <td>0</td>\n",
       "      <td>0</td>\n",
       "      <td>1</td>\n",
       "    </tr>\n",
       "    <tr>\n",
       "      <th>1335</th>\n",
       "      <td>18</td>\n",
       "      <td>36.850</td>\n",
       "      <td>0</td>\n",
       "      <td>1629.8335</td>\n",
       "      <td>1</td>\n",
       "      <td>0</td>\n",
       "      <td>1</td>\n",
       "      <td>0</td>\n",
       "      <td>0</td>\n",
       "      <td>0</td>\n",
       "      <td>1</td>\n",
       "      <td>0</td>\n",
       "      <td>0</td>\n",
       "      <td>0</td>\n",
       "      <td>0</td>\n",
       "      <td>1</td>\n",
       "    </tr>\n",
       "    <tr>\n",
       "      <th>1336</th>\n",
       "      <td>21</td>\n",
       "      <td>25.800</td>\n",
       "      <td>0</td>\n",
       "      <td>2007.9450</td>\n",
       "      <td>1</td>\n",
       "      <td>0</td>\n",
       "      <td>1</td>\n",
       "      <td>0</td>\n",
       "      <td>0</td>\n",
       "      <td>0</td>\n",
       "      <td>0</td>\n",
       "      <td>1</td>\n",
       "      <td>0</td>\n",
       "      <td>0</td>\n",
       "      <td>1</td>\n",
       "      <td>0</td>\n",
       "    </tr>\n",
       "    <tr>\n",
       "      <th>1337</th>\n",
       "      <td>61</td>\n",
       "      <td>29.070</td>\n",
       "      <td>0</td>\n",
       "      <td>29141.3603</td>\n",
       "      <td>1</td>\n",
       "      <td>0</td>\n",
       "      <td>0</td>\n",
       "      <td>1</td>\n",
       "      <td>0</td>\n",
       "      <td>1</td>\n",
       "      <td>0</td>\n",
       "      <td>0</td>\n",
       "      <td>0</td>\n",
       "      <td>0</td>\n",
       "      <td>1</td>\n",
       "      <td>0</td>\n",
       "    </tr>\n",
       "  </tbody>\n",
       "</table>\n",
       "<p>1338 rows × 16 columns</p>\n",
       "</div>"
      ],
      "text/plain": [
       "      age     bmi  children     charges  sex_female  sex_male  smoker_no  \\\n",
       "0      19  27.900         0  16884.9240           1         0          0   \n",
       "1      18  33.770         1   1725.5523           0         1          1   \n",
       "2      28  33.000         3   4449.4620           0         1          1   \n",
       "3      33  22.705         0  21984.4706           0         1          1   \n",
       "4      32  28.880         0   3866.8552           0         1          1   \n",
       "...   ...     ...       ...         ...         ...       ...        ...   \n",
       "1333   50  30.970         3  10600.5483           0         1          1   \n",
       "1334   18  31.920         0   2205.9808           1         0          1   \n",
       "1335   18  36.850         0   1629.8335           1         0          1   \n",
       "1336   21  25.800         0   2007.9450           1         0          1   \n",
       "1337   61  29.070         0  29141.3603           1         0          0   \n",
       "\n",
       "      smoker_yes  region_northeast  region_northwest  region_southeast  \\\n",
       "0              1                 0                 0                 0   \n",
       "1              0                 0                 0                 1   \n",
       "2              0                 0                 0                 1   \n",
       "3              0                 0                 1                 0   \n",
       "4              0                 0                 1                 0   \n",
       "...          ...               ...               ...               ...   \n",
       "1333           0                 0                 1                 0   \n",
       "1334           0                 1                 0                 0   \n",
       "1335           0                 0                 0                 1   \n",
       "1336           0                 0                 0                 0   \n",
       "1337           1                 0                 1                 0   \n",
       "\n",
       "      region_southwest  bmi_cat_underweight  bmi_cat_healthy  \\\n",
       "0                    1                    0                0   \n",
       "1                    0                    0                0   \n",
       "2                    0                    0                0   \n",
       "3                    0                    0                1   \n",
       "4                    0                    0                0   \n",
       "...                ...                  ...              ...   \n",
       "1333                 0                    0                0   \n",
       "1334                 0                    0                0   \n",
       "1335                 0                    0                0   \n",
       "1336                 1                    0                0   \n",
       "1337                 0                    0                0   \n",
       "\n",
       "      bmi_cat_overweight  bmi_cat_obese  \n",
       "0                      1              0  \n",
       "1                      0              1  \n",
       "2                      0              1  \n",
       "3                      0              0  \n",
       "4                      1              0  \n",
       "...                  ...            ...  \n",
       "1333                   0              1  \n",
       "1334                   0              1  \n",
       "1335                   0              1  \n",
       "1336                   1              0  \n",
       "1337                   1              0  \n",
       "\n",
       "[1338 rows x 16 columns]"
      ]
     },
     "execution_count": 55,
     "metadata": {},
     "output_type": "execute_result"
    }
   ],
   "source": [
    "new_ins_df = pd.get_dummies(insurance_df,columns=cat_columns)\n",
    "new_ins_df"
   ]
  },
  {
   "cell_type": "code",
   "execution_count": 56,
   "metadata": {},
   "outputs": [
    {
     "data": {
      "text/plain": [
       "LinearRegression()"
      ]
     },
     "execution_count": 56,
     "metadata": {},
     "output_type": "execute_result"
    },
    {
     "name": "stdout",
     "output_type": "stream",
     "text": [
      "age: 249.9762\n",
      "bmi: 222.9784\n",
      "children: 472.0072\n",
      "sex_female: 64.0591\n",
      "sex_male: -64.0591\n",
      "smoker_no: -11796.1330\n",
      "smoker_yes: 11796.1330\n",
      "region_northeast: 891.0594\n",
      "region_northwest: -193.3910\n",
      "region_southeast: -366.6642\n",
      "region_southwest: -331.0042\n",
      "bmi_cat_underweight: -804.7213\n",
      "bmi_cat_healthy: 95.4916\n",
      "bmi_cat_overweight: -1007.6360\n",
      "bmi_cat_obese: 1716.8657\n"
     ]
    }
   ],
   "source": [
    "# bring in the linear model from sklearn\n",
    "from sklearn import linear_model\n",
    "reg = linear_model.LinearRegression()\n",
    "X = new_ins_df.drop(columns='charges')\n",
    "y = new_ins_df['charges']\n",
    "X_train, X_test, y_train, y_test = train_test_split(X, y, test_size=0.4, random_state=123)\n",
    "reg.fit(X_train,y_train)\n",
    "\n",
    "for col, coef in zip(X.columns,reg.coef_):\n",
    "    print(f'{col}: {coef:.4f}')"
   ]
  },
  {
   "cell_type": "code",
   "execution_count": 57,
   "metadata": {},
   "outputs": [
    {
     "name": "stdout",
     "output_type": "stream",
     "text": [
      "\n",
      "Regression statistics\n",
      "\n",
      "                      Mean Error (ME) : -468.7596\n",
      "       Root Mean Squared Error (RMSE) : 5892.0332\n",
      "            Mean Absolute Error (MAE) : 4281.7343\n",
      "          Mean Percentage Error (MPE) : -26.2750\n",
      "Mean Absolute Percentage Error (MAPE) : 48.1137\n"
     ]
    }
   ],
   "source": [
    "y_pred = reg.predict(X_test)\n",
    "regressionSummary(y_test,y_pred)"
   ]
  },
  {
   "cell_type": "markdown",
   "metadata": {},
   "source": [
    "## Transformers\n",
    "The sklearn library has standardized a set of transformers which we can use to apply to our data for preprocessing.  Just like in the last example where we had create the dummies and then scale the data, we can use a [column transformer](https://scikit-learn.org/stable/modules/generated/sklearn.compose.ColumnTransformer.html) to apply a transformation to a particular column or set of columns.  Some helpful transformers that we will find useful like:\n",
    "- [OneHotEncoder](https://scikit-learn.org/stable/modules/generated/sklearn.preprocessing.OneHotEncoder.html#sklearn.preprocessing.OneHotEncoder) for categorical data\n",
    "- [SimpleImputer](https://scikit-learn.org/stable/modules/generated/sklearn.impute.SimpleImputer.html#sklearn.impute.SimpleImputer) to help deal with missing data\n",
    "- [StandardScaler](https://scikit-learn.org/stable/modules/generated/sklearn.preprocessing.StandardScaler.html#sklearn.preprocessing.StandardScaler) for standardizing continuous features\n",
    "- [FunctionTransformer](https://scikit-learn.org/stable/modules/generated/sklearn.preprocessing.FunctionTransformer.html#sklearn.preprocessing.FunctionTransformer) when you need to apply a custom function to the data"
   ]
  },
  {
   "cell_type": "code",
   "execution_count": 58,
   "metadata": {},
   "outputs": [],
   "source": [
    "from sklearn.pipeline import Pipeline\n",
    "from sklearn.preprocessing import StandardScaler, OneHotEncoder\n",
    "from sklearn.compose import ColumnTransformer\n",
    "from sklearn.impute import SimpleImputer\n",
    "\n",
    "# Here we are going to apply two transforms to our numeric columns\n",
    "# An imputer, to fill any gaps in our dataset with the median value\n",
    "# And a scaler which we can use to ensure our data is standardized\n",
    "numeric_transformer = Pipeline(\n",
    "    steps=[(\"imputer\", SimpleImputer(strategy=\"median\")), (\"scaler\", StandardScaler())]\n",
    ")\n",
    "\n",
    "# For our categorical data, we'll use the OneHotEncoder\n",
    "#  In essense this will dummy the columns for us\n",
    "categorical_transformer = OneHotEncoder(handle_unknown=\"ignore\")\n",
    "\n",
    "# Here we define the transformers to use and which columns to apply them too\n",
    "preprocessor = ColumnTransformer(\n",
    "    transformers=[\n",
    "        (\"num\", StandardScaler(), ['age', 'bmi', 'children'],),\n",
    "        (\"cat\", categorical_transformer, cat_columns)],\n",
    ")"
   ]
  },
  {
   "cell_type": "code",
   "execution_count": 59,
   "metadata": {},
   "outputs": [
    {
     "data": {
      "text/plain": [
       "LinearRegression()"
      ]
     },
     "execution_count": 59,
     "metadata": {},
     "output_type": "execute_result"
    },
    {
     "name": "stdout",
     "output_type": "stream",
     "text": [
      "age: 3606.5745\n",
      "sex: 852.4914\n",
      "bmi: 565.1109\n",
      "children: 40.1067\n",
      "smoker: -40.1067\n",
      "region: -11762.1933\n",
      "bmi_cat: 11762.1933\n",
      "\n",
      "Regression statistics\n",
      "\n",
      "                      Mean Error (ME) : -165.1672\n",
      "       Root Mean Squared Error (RMSE) : 5509.5773\n",
      "            Mean Absolute Error (MAE) : 4052.1447\n",
      "          Mean Percentage Error (MPE) : -17.4919\n",
      "Mean Absolute Percentage Error (MAPE) : 42.4737\n"
     ]
    }
   ],
   "source": [
    "# Load up the data\n",
    "X = insurance_df.drop(columns='charges')\n",
    "y = insurance_df['charges']\n",
    "\n",
    "X_train, X_test, y_train, y_test = train_test_split(X, y, test_size=0.2, random_state=123)\n",
    "\n",
    "# Keep in mind we need to apply the transform to both the train and the test sets.\n",
    "X_train_xform = preprocessor.fit_transform(X_train)\n",
    "X_test_xform = preprocessor.fit_transform(X_test)\n",
    "\n",
    "# Create a new regressor\n",
    "reg2 = linear_model.LinearRegression()\n",
    "reg2.fit(X_train_xform, y_train)\n",
    "y_pred = reg2.predict(X_test_xform)\n",
    "\n",
    "for col, coef in zip(X.columns,reg2.coef_):\n",
    "    print(f'{col}: {coef:.4f}')\n",
    "regressionSummary(y_pred=y_pred, y_true=y_test)"
   ]
  },
  {
   "cell_type": "markdown",
   "metadata": {},
   "source": [
    "Not applying the same transform to the training data and test data can lead to disasterous consequences.  Fortunately we have a tool for this as well, pipelines.  Pipelines ensure that all the same transforms are applied to both the training and testing data.  There is a whole notebook on pipelines [here](42-Pipelines.ipynb)."
   ]
  },
  {
   "cell_type": "markdown",
   "metadata": {},
   "source": [
    "## Feature Selection\n",
    "Some Estimation and Prediction methods work just fine with a long list of features (and often prefer a larger set!).  For instance, Decision Trees self-select the best features based on how much additional information can be gained from splitting on a feature.  And neural networks were made for handling tons and tons of features.  Linear and Logistic regression (logistic regression is used for classification remember) often can have adequate models with less predictors.  Less predictors means less data and less processing, so it is advantageous to have as few predictors as possible for these algorithms.\n",
    "\n",
    "Two approaches to stepwise feature selection in regression models:\n",
    "- Forward Selection : start with no predictors and _add_ one at a time until the accuracy doesn't increase\n",
    "- Backward Selection : start with all the predictors and _remove_ one at a time until the accuracy doesn't increase\n",
    "\n",
    "Exhaustive searches are another option, where every combination of features is attempted, as are univariate and mutual information techniques.  Other approaches are covered in [another notebook](./41-AdvancedTechniques.ipynb#feature-reduction)\n",
    "\n",
    "For this example we'll use the Toyota Corolla dataset.  In this dataset, we will look at set of cars from a dealership looking to predict the value that they could get from a Corolla if they bought it on trade-in.  If they can sell a car for more than they bought it for they can make money."
   ]
  },
  {
   "cell_type": "code",
   "execution_count": 77,
   "metadata": {},
   "outputs": [
    {
     "data": {
      "text/plain": [
       "LinearRegression()"
      ]
     },
     "execution_count": 77,
     "metadata": {},
     "output_type": "execute_result"
    },
    {
     "name": "stdout",
     "output_type": "stream",
     "text": [
      "intercept  -1319.3543800411808\n",
      "Age_08_04: -140.7488\n",
      "KM: -0.0178\n",
      "HP: 36.1034\n",
      "Met_Color: 84.2818\n",
      "Automatic: 416.7820\n",
      "CC: 0.0177\n",
      "Doors: -50.6579\n",
      "Quarterly_Tax: 13.6253\n",
      "Weight: 13.0387\n",
      "Fuel_Type_Diesel: 1066.4647\n",
      "Fuel_Type_Petrol: 2310.2495\n",
      "\n",
      "Regression statistics\n",
      "\n",
      "                      Mean Error (ME) : 103.6803\n",
      "       Root Mean Squared Error (RMSE) : 1312.8523\n",
      "            Mean Absolute Error (MAE) : 1017.5972\n",
      "          Mean Percentage Error (MPE) : -0.2633\n",
      "Mean Absolute Percentage Error (MAPE) : 9.0111\n"
     ]
    }
   ],
   "source": [
    "# Reduce data frame to the top 1000 rows and select columns for regression analysis\n",
    "car_df = load_data('ToyotaCorolla')\n",
    "# Just use the first 1000 rows\n",
    "car_df = car_df.iloc[0:1000]\n",
    "\n",
    "predictors = ['Age_08_04', 'KM', 'Fuel_Type', 'HP', 'Met_Color', 'Automatic', 'CC', \n",
    "              'Doors', 'Quarterly_Tax', 'Weight']\n",
    "outcome = 'Price'\n",
    "\n",
    "# partition data\n",
    "X = pd.get_dummies(car_df[predictors], drop_first=True)\n",
    "y = car_df[outcome]\n",
    "X_train, X_test, y_train, y_test = train_test_split(X, y, test_size=0.4, random_state=1)\n",
    "\n",
    "car_lm = linear_model.LinearRegression()\n",
    "car_lm.fit(X_train, y_train)\n",
    "\n",
    "# print coefficients\n",
    "print('intercept ', car_lm.intercept_)\n",
    "\n",
    "for col, coef in zip(X.columns,car_lm.coef_):\n",
    "    print(f'{col}: {coef:.4f}')\n",
    "\n",
    "# print performance measures\n",
    "y_pred = car_lm.predict(X_test)\n",
    "regressionSummary(y_test, y_pred)"
   ]
  },
  {
   "cell_type": "code",
   "execution_count": 80,
   "metadata": {},
   "outputs": [
    {
     "data": {
      "text/plain": [
       "<AxesSubplot:>"
      ]
     },
     "execution_count": 80,
     "metadata": {},
     "output_type": "execute_result"
    },
    {
     "data": {
      "image/png": "[encoded data removed]",
      "text/plain": [
       "<Figure size 1440x720 with 1 Axes>"
      ]
     },
     "metadata": {
      "needs_background": "light"
     },
     "output_type": "display_data"
    }
   ],
   "source": [
    "car_results = pd.DataFrame({'Predicted':y_pred, 'Actual':y_test, 'Residual':y_pred - y_test})\n",
    "car_results.Residual.hist()"
   ]
  },
  {
   "cell_type": "markdown",
   "metadata": {},
   "source": [
    "### Comparing models\n",
    "Since we are about to reduce the number of predictors, we need to decide what is the best set of predictors.  One way to compare models of course is just to look at the outcomes and see which is best, but this can be misleading.  Several criteria for evaluating and comparing models are based on metrics computed from training data alone.  One popular method is _adjusted_ $R^2$.  This is defined as \n",
    "$$R^2_{adj}=1-\\frac{n-1}{n-p-1}(1-R^2)$$ \n",
    "where $R^2$ is the proportion of variance explained by by a single predictor, _n_ represents the number of observations and _p_ is the number of predictors.  A higher $R^2$ means more variance from a single predictor.  But if we use an adjusted score because otherwise we would automatically get higher scores simply by adding more predictors.  There are other approaches as well [AIC](https://en.wikipedia.org/wiki/Akaike_information_criterion) and [BIC](https://en.wikipedia.org/wiki/Bayesian_information_criterion).  In each case a higher value means a better set of predictors.  Since they all produce the same outcomes, we'll show the values, but not go into the formulas"
   ]
  },
  {
   "cell_type": "code",
   "execution_count": 79,
   "metadata": {},
   "outputs": [
    {
     "data": {
      "text/plain": [
       "array([[<AxesSubplot:title={'center':'Predicted'}>,\n",
       "        <AxesSubplot:title={'center':'Actual'}>],\n",
       "       [<AxesSubplot:title={'center':'Residual'}>, <AxesSubplot:>]],\n",
       "      dtype=object)"
      ]
     },
     "execution_count": 79,
     "metadata": {},
     "output_type": "execute_result"
    },
    {
     "data": {
      "image/png": "[encoded data removed]",
      "text/plain": [
       "<Figure size 1440x720 with 4 Axes>"
      ]
     },
     "metadata": {
      "needs_background": "light"
     },
     "output_type": "display_data"
    }
   ],
   "source": [
    "def train_model(factors):\n",
    "    pass\n",
    "\n",
    "def score_model(model, factors):\n",
    "    pass"
   ]
  }
 ],
 "metadata": {
  "interpreter": {
   "hash": "d4d1e4263499bec80672ea0156c357c1ee493ec2b1c70f0acce89fc37c4a6abe"
  },
  "kernelspec": {
   "display_name": "Python 3.9.7 ('base')",
   "language": "python",
   "name": "python3"
  },
  "language_info": {
   "codemirror_mode": {
    "name": "ipython",
    "version": 3
   },
   "file_extension": ".py",
   "mimetype": "text/x-python",
   "name": "python",
   "nbconvert_exporter": "python",
   "pygments_lexer": "ipython3",
   "version": "3.9.7"
  },
  "orig_nbformat": 4
 },
 "nbformat": 4,
 "nbformat_minor": 2
}
